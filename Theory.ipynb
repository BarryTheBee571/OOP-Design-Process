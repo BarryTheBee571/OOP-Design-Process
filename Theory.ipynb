{
 "cells": [
  {
   "attachments": {},
   "cell_type": "markdown",
   "metadata": {},
   "source": [
    "#### **1. Explain how the top-down and bottom-up approaches differ in breaking down tasks when designing a software system in an object-oriented language.**\n",
    "---"
   ]
  },
  {
   "attachments": {},
   "cell_type": "markdown",
   "metadata": {},
   "source": [
    "The top-down and bottom-up approaches differ in how they break down tasks when designing a software system in an object-oriented language. The top-down approach starts with a broad view of the system, defining major functionalities before refining them into smaller components. This ensures a clear architectural structure, guiding developers in implementing features step by step. On the other hand, the bottom-up approach begins with smaller, reusable modules, focusing on individual classes and methods before integrating them into a full system. This method is more flexible, allowing developers to refine fundamental components first and gradually build upward. While top-down emphasises high-level planning, bottom-up prioritises modular development, and many projects use a blend of both to balance structure and adaptability."
   ]
  },
  {
   "attachments": {},
   "cell_type": "markdown",
   "metadata": {},
   "source": [
    "#### **2. Explain how task definition, top-down and bottom-up approaches, the facade pattern, and agility each contribute to the design process in object-oriented programming.**\n",
    "---"
   ]
  },
  {
   "attachments": {},
   "cell_type": "markdown",
   "metadata": {},
   "source": [
    "1. **Task Definition** – Clearly defining tasks ensures the system’s structure aligns with requirements, preventing unnecessary complexity and scope creep.\n",
    "\n",
    "2. **Top-Down and Bottom-Up Approaches** – The top-down approach focuses on planning the system architecture first, refining details later, while the bottom-up approach builds individual components first, integrating them into a full system. A balanced mix helps maintain structure and flexibility.\n",
    "\n",
    "3. **Facade Pattern** – This design simplifies interactions by providing a single entry point for complex subsystems, improving usability and modularity while keeping dependencies minimal.\n",
    "\n",
    "4. **Agility** – Agile development emphasises iteration, flexibility, and responsiveness to changes, making software adaptable through continuous testing, refactoring, and modular design."
   ]
  }
 ],
 "metadata": {
  "language_info": {
   "name": "python"
  },
  "orig_nbformat": 4
 },
 "nbformat": 4,
 "nbformat_minor": 2
}
